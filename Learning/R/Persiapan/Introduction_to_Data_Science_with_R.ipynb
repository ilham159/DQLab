{
  "nbformat": 4,
  "nbformat_minor": 0,
  "metadata": {
    "colab": {
      "provenance": []
    },
    "kernelspec": {
      "name": "ir",
      "display_name": "R"
    },
    "language_info": {
      "name": "R"
    }
  },
  "cells": [
    {
      "cell_type": "markdown",
      "source": [
        "# **Introduction to Data Science with R**"
      ],
      "metadata": {
        "id": "9N_UnWvPeG2n"
      }
    },
    {
      "cell_type": "markdown",
      "source": [
        "## CHAPTER 1\n",
        "\n",
        "### Dasar-dasar Pemograman R\n",
        "\n",
        "Kamu akan mengenal dasar-dasar pemograman R dan memprogramnya secara sederhana dengan menggunakan Live Code Editor."
      ],
      "metadata": {
        "id": "zPJvyNykeXMR"
      }
    },
    {
      "cell_type": "markdown",
      "source": [
        "**Data Scientist dan R**\n",
        "\n",
        "Halo, selamat datang di kelas perkenalan DQLab yang menandai awal perjalanan kamu sebagai seorang Data Scientist!\n",
        "\n",
        "Data Scientist merupakan profesi yang sangat menjanjikan saat ini. Sebagai seorang data scientist tentunya kamu akan bekerja dengan cara merubah data-data yang sebelumnya tidak kelihatan berguna menjadi informasi yang berharga.\n",
        "\n",
        "Untuk mewujudkan hal itu, seorang data scientist memerlukan tool (kakas atau peralatan) dalam bentuk sebuah perangkat lunak (software). Software yang diperlukan diusahakan cukup simpel namun kuat (simple but powerful) dalam penggunaannya.\n",
        "\n",
        "Nah, software yang dimaksud itu dinamakan dengan R. R merupakan software pemrograman untuk pengolahan dan pemodelan berbasis data.\n",
        "\n",
        "Mari kita pelajari lebih dalam mengenai R di dalam modul pembelajaran ini.\n",
        "\n",
        "Klik tombol Next untuk melanjutkan pembelajaran yang menyenangkan ini."
      ],
      "metadata": {
        "id": "6y3F5EFLesW4"
      }
    },
    {
      "cell_type": "markdown",
      "source": [
        "**Apa dan kenapa R?**\n",
        "\n",
        "\n",
        "R adalah nama sebuah bahasa pemrograman sekaligus software untuk pengolahan data dan grafik.\n",
        "\n",
        "R sangat popular saat ini karena tiga hal berikut:\n",
        "\n",
        "1.   Banyak pilihan pengolahan data dengan jumlah fitur yang sangat komplit - dari grafik sampai machine learning.\n",
        "2.   Lebih cepat dipelajari dan dijalankan untuk mengolah data dibandingkan dengan bahasa lain.\n",
        "3.   R bersifat gratis dan open source yang artinya, tidak perlu biaya lisensi yang biasanya sangat mahal untuk software pengolahan data.\n",
        "\n",
        "Klik tombol Next untuk melanjutkan ke bagian berikutnya."
      ],
      "metadata": {
        "id": "bpNt70pJgrSA"
      }
    },
    {
      "cell_type": "markdown",
      "source": [
        "**Perusahaan mana yang sudah menggunakan R?**\n",
        "\"Tidak ada asap tanpa api\", demikian suatu peribahasa yang berarti tidak ada rumor tanpa ada fakta yang menyertainya.\n",
        "\n",
        "Kepopuleran bahasa R disebabkan karena penggunaannya pada berbagai perusahaan besar dunia.\n",
        "\n",
        "Perusahaan besar yang dimaksud diantaranya adalah AirBnB untuk data science, Microsoft untuk menambahkan fungsionalitas di produk-produknya, Uber untuk analisa statistik, Facebook untuk behavior analysis, dan lain-lain.\n",
        "\n",
        "Klik tombol Next untuk melanjutkan ke bagian berikutnya."
      ],
      "metadata": {
        "id": "qj-bZzwznyrd"
      }
    },
    {
      "cell_type": "markdown",
      "source": [
        "**\"Hello World\" di R**\n",
        "\n",
        "Dalam setiap pembelajaran pemrograman, menampilkan tulisan \"Hello World\" sebagai tradisi dunia pada saat mulai belajar pemrograman. :)\n",
        "\n",
        "Mari kita lakukan hal yang sama dengan menggunakan bahasa R di laman ini melalui Code Editor.\n",
        "\n",
        " \n",
        "\n",
        "*Tugas Praktek*\n",
        "\n",
        "Ketikkanlah \"Hello World\" (diketik persis sama dengan yang dicontohkan baik huruf besar, huruf kecil dan tanda kutip yang dimilikinya) pada bagian Code Editor.\n",
        "\n",
        "Klik tombol Run (Angka 1) untuk menjalankan R dan mengeluarkan hasil di bagian Console.\n",
        "\n",
        "Untuk memeriksa hasil yang telah kamu kerjakan apakah sudah benar dan sekaligus agar dapat melanjutkan ke bagian berikutnya, kliklah tombol Submit (Angka 2).\n",
        "\n",
        "![Hello World di R.png](data:image/png;base64,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)"
      ],
      "metadata": {
        "id": "QrhShR45oEPQ"
      }
    },
    {
      "cell_type": "code",
      "source": [
        "\"Hello World\""
      ],
      "metadata": {
        "colab": {
          "base_uri": "https://localhost:8080/",
          "height": 34
        },
        "id": "CtAve7r1n_mr",
        "outputId": "7111563c-7f74-41a0-8892-f541606a89ba"
      },
      "execution_count": null,
      "outputs": [
        {
          "output_type": "display_data",
          "data": {
            "text/html": [
              "'Hello World'"
            ],
            "text/markdown": "'Hello World'",
            "text/latex": "'Hello World'",
            "text/plain": [
              "[1] \"Hello World\""
            ]
          },
          "metadata": {}
        }
      ]
    },
    {
      "cell_type": "markdown",
      "source": [
        "**Praktek: Perhitungan Sederhana**\n",
        "\n",
        "Mari kita lanjutkan kembali praktek sederhana dengan bahasa R. Saat ini kamu diminta untuk melakukan perhitungan sederhana yang berupa penjumlahan sederhana.\n",
        "\n",
        "*Tugas Praktek*\n",
        "\n",
        "Ketikkan pada code editor penjumlah dua bilangan bulat yaitu: 10 + 7, dan jalankan dengan tombol Run. \n",
        "\n",
        "Jika lancar kamu menjalankannya, hasilnya akan terlihat pada Console sebagai berikut.\n",
        "\n",
        "\n",
        "```\n",
        "> 10+7\n",
        "[1] 17\n",
        "```\n",
        "\n",
        "Baris kedua yaitu 17 merupakan hasil perhitungan dari penjumlahan dua bilangan 10 + 7. Abaikan simbol > dan [1] untuk saat ini.\n",
        "\n",
        "Klik tombol Submit untuk melanjutkan ke subbab selanjutnya."
      ],
      "metadata": {
        "id": "3I7l6kVGplhr"
      }
    },
    {
      "cell_type": "code",
      "source": [
        "10+7"
      ],
      "metadata": {
        "colab": {
          "base_uri": "https://localhost:8080/",
          "height": 34
        },
        "id": "SpXvON8iqCIU",
        "outputId": "6100d2a1-0e2c-4720-ff33-4f5b6054a6c3"
      },
      "execution_count": null,
      "outputs": [
        {
          "output_type": "display_data",
          "data": {
            "text/html": [
              "17"
            ],
            "text/markdown": "17",
            "text/latex": "17",
            "text/plain": [
              "[1] 17"
            ]
          },
          "metadata": {}
        }
      ]
    },
    {
      "cell_type": "markdown",
      "source": [
        "**Variabel dalam R**\n",
        "\n",
        "Penggunaan variabel pada pemrograman sangat penting untuk menampung angka maupun teks di R dengan suatu nama.\n",
        "\n",
        " \n",
        "\n",
        "Tugas Praktek\n",
        "\n",
        "Pada Code Editor ketikkan variabel a denga nilai sebagai berikut:\n",
        "\n",
        "\n",
        "```\n",
        "a = 5\n",
        "```\n",
        "\n",
        "Ini artinya variabel a diisi dengan angka 5. Selanjutnya, tambahkan lagi di baris berikutnya pada Code Editor perintah berikut ini\n",
        "\n",
        "\n",
        "\n",
        "```\n",
        "print(a)\n",
        "```\n",
        "\n",
        "Ini digunakan untuk mencetak isi variabel a.\n",
        "\n",
        " \n",
        "\n",
        "Klik tombol Run dan amati yang dimuncul di console.\n",
        "\n",
        "Terkakhir, klik Submit Code untuk pengecekan dan melanjutkan ke bagian berikutnya.\n"
      ],
      "metadata": {
        "id": "bOxilq0Bqaum"
      }
    },
    {
      "cell_type": "code",
      "source": [
        "a = 5\n",
        "print(a)"
      ],
      "metadata": {
        "colab": {
          "base_uri": "https://localhost:8080/"
        },
        "id": "TtbfT3Baq_Co",
        "outputId": "87bce58f-9927-427e-ba80-c5c3191f504e"
      },
      "execution_count": null,
      "outputs": [
        {
          "output_type": "stream",
          "name": "stdout",
          "text": [
            "[1] 5\n"
          ]
        }
      ]
    },
    {
      "cell_type": "markdown",
      "source": [
        "## CHAPTER 2\n",
        "\n",
        "### Lanjutan dasar-dasar R\n",
        "\n",
        "Kamu akan belajar penggunaan comment, vector  dan fungsi summary  untuk mengenal karakteristik data."
      ],
      "metadata": {
        "id": "DKSSRRaEriVu"
      }
    },
    {
      "cell_type": "markdown",
      "source": [
        "**Comment pada R**\n",
        "\n",
        "Comment merupakan teks untuk menambahkan keterangan pada kode yang ditulis. Penambahan keterangan ini akan mengingatkan kita kembali ketika membuka code tersebut di suatu waktu di masa depan. \n",
        "\n",
        "Comment tidak dianggap sebagai code yang dapat dieksekusi. \n",
        "\n",
        "Penggunaan comment dalam bahasa R dapat dilakukan dengan mengawali suatu teks dengan tanda '#'.\n",
        "\n",
        "Berikut ini merupakan contoh penggunaan comment\n",
        "\n",
        "\n",
        "\n",
        "```\n",
        "10 + 7 #Ini adalah baris komentar\n",
        "```\n",
        "\n",
        "atau seperti ini\n",
        "\n",
        "\n",
        "\n",
        "```\n",
        "#Ini adalah baris komentar.\n",
        "10 + 7\n",
        "```\n",
        "\n"
      ],
      "metadata": {
        "id": "k7RR-fi2sDHu"
      }
    },
    {
      "cell_type": "markdown",
      "source": [
        "**Praktek: Penggunaan Comment**\n",
        "\n",
        "Ketikkanlah komentar setelah perhitungan matematika seperti yang dicontohkan berikut ini pada Code Editor.\n",
        "\n",
        "\n",
        "\n",
        "```\n",
        "10 + 7 #Ini adalah baris komentar\n",
        "```\n",
        "\n",
        "Cobalah dijalankan dengan menekan tombol Run, dan jika lancar, maka kamu akan mendapatkan hasil berikut\n",
        "\n",
        "\n",
        "\n",
        "```\n",
        "> 10 + 7 #Ini adalah baris komentar\n",
        " [1] 17\n",
        "```\n",
        "\n",
        "Dari proses ini terlihat bahwa comment tidak diproses oleh R, jadi yang ditampilkan hanya hasil perhitungan penjumlahan matematikanya saja. "
      ],
      "metadata": {
        "id": "uyrlgVDGsfFV"
      }
    },
    {
      "cell_type": "code",
      "source": [
        "10 + 7 #Ini adalah baris komentar"
      ],
      "metadata": {
        "colab": {
          "base_uri": "https://localhost:8080/",
          "height": 34
        },
        "id": "cLTf0NwWrg5P",
        "outputId": "cfddd101-2183-4095-8720-d0d870b7fca0"
      },
      "execution_count": null,
      "outputs": [
        {
          "output_type": "display_data",
          "data": {
            "text/html": [
              "17"
            ],
            "text/markdown": "17",
            "text/latex": "17",
            "text/plain": [
              "[1] 17"
            ]
          },
          "metadata": {}
        }
      ]
    },
    {
      "cell_type": "markdown",
      "source": [
        "**Vector pada R**\n",
        "\n",
        "Vector merupakan sebuah struktur data yang dapat menyimpan lebih dari satu data yang akan digunakan di R.\n",
        "\n",
        "Penggunaannya sangat sederhana, yaitu menggunakan fungsi c disertai data-data yang ingin disimpan. Perhatikan potongan kode berikut\n",
        "\n",
        "```\n",
        "c(5, 10, 20)\n",
        "```\n",
        "\n",
        "ini artinya kamu akan menyimpan nilai 5, 10 dan 20 dalam satu struktur yang disebut vektor. Selanjutnya, jika kamu ingin menyimpan rangkaian angka yang terurut, misalkan angka 1 sampai dengan 20, maka kamud dapat dapat mengetikkan potongan kode berikut\n",
        "\n",
        "\n",
        "```\n",
        "c(1:20)\n",
        "```\n",
        "\n",
        "Mari kita praktekkan pada bagian berikutnya dengan menekan tombol Next."
      ],
      "metadata": {
        "id": "V8LA20Ass_sg"
      }
    },
    {
      "cell_type": "markdown",
      "source": [
        "**Praktek: Penggunaan Vector - Bagian Satu**\n",
        "\n",
        "Ketikkanlah perintah c(3, 10, 15) pada Code Editor\n",
        "\n",
        "\n",
        "```\n",
        "c(3, 10, 15)\n",
        "```\n",
        "\n",
        "Klik tombol Run dan perhatikan output yang dihasilkan pada bagian Console. Di sini dapat kamu melihat hasil sebagai berikut\n",
        "\n",
        "\n",
        "\n",
        "```\n",
        "> c(3, 10, 15)\n",
        "[1]  3 10 15\n",
        "```\n",
        "\n",
        "Terlihat bahwa perintah c(3, 10, 15) ini membuat tiga urutan angka yaitu 3, 10 dan 15 yang disimpan dan ditampilkan secara bersamaan dalam suatu vector."
      ],
      "metadata": {
        "id": "9PkRC-JZtbTS"
      }
    },
    {
      "cell_type": "code",
      "source": [
        "c(3, 10, 15)"
      ],
      "metadata": {
        "colab": {
          "base_uri": "https://localhost:8080/",
          "height": 34
        },
        "id": "py14pISBs9DM",
        "outputId": "2f4d2e13-6e8e-4c46-8da0-d65353b9a868"
      },
      "execution_count": null,
      "outputs": [
        {
          "output_type": "display_data",
          "data": {
            "text/html": [
              "<style>\n",
              ".list-inline {list-style: none; margin:0; padding: 0}\n",
              ".list-inline>li {display: inline-block}\n",
              ".list-inline>li:not(:last-child)::after {content: \"\\00b7\"; padding: 0 .5ex}\n",
              "</style>\n",
              "<ol class=list-inline><li>3</li><li>10</li><li>15</li></ol>\n"
            ],
            "text/markdown": "1. 3\n2. 10\n3. 15\n\n\n",
            "text/latex": "\\begin{enumerate*}\n\\item 3\n\\item 10\n\\item 15\n\\end{enumerate*}\n",
            "text/plain": [
              "[1]  3 10 15"
            ]
          },
          "metadata": {}
        }
      ]
    },
    {
      "cell_type": "markdown",
      "source": [
        "**Praktek: Penggunaan Vector - Bagian Dua**\n",
        "\n",
        "Selain mengetikkan satu per satu data pada vector, kita juga dapat membuat urutan data dengan menggunakan operator titik dua. Cobalah ketikkan perintah berikut pada code editor\n",
        "\n",
        "\n",
        "```\n",
        "c(1:5)\n",
        "```\n",
        "\n",
        "Klik tombol Run dan perhatikan output yang dihasilkan pada bagian Console yang ditampilkan sebagai berikut.\n",
        "\n",
        "\n",
        "```\n",
        "> c(1:5)\n",
        "[1] 1 2 3 4 5\n",
        "```\n",
        "\n",
        "Terlihat bahwa perintah c(1:5) membuat vector dengan lima urutan angka yang dimulai dari 1 dan diakhiri nilai 5."
      ],
      "metadata": {
        "id": "xKPdKlU4t9bm"
      }
    },
    {
      "cell_type": "code",
      "execution_count": null,
      "metadata": {
        "colab": {
          "base_uri": "https://localhost:8080/",
          "height": 34
        },
        "id": "T430A2KtbL8P",
        "outputId": "2843c2bd-7458-403a-b0ed-b1a2bae831b5"
      },
      "outputs": [
        {
          "output_type": "display_data",
          "data": {
            "text/html": [
              "<style>\n",
              ".list-inline {list-style: none; margin:0; padding: 0}\n",
              ".list-inline>li {display: inline-block}\n",
              ".list-inline>li:not(:last-child)::after {content: \"\\00b7\"; padding: 0 .5ex}\n",
              "</style>\n",
              "<ol class=list-inline><li>1</li><li>2</li><li>3</li><li>4</li><li>5</li></ol>\n"
            ],
            "text/markdown": "1. 1\n2. 2\n3. 3\n4. 4\n5. 5\n\n\n",
            "text/latex": "\\begin{enumerate*}\n\\item 1\n\\item 2\n\\item 3\n\\item 4\n\\item 5\n\\end{enumerate*}\n",
            "text/plain": [
              "[1] 1 2 3 4 5"
            ]
          },
          "metadata": {}
        }
      ],
      "source": [
        "c(1:5)"
      ]
    },
    {
      "cell_type": "markdown",
      "source": [
        "**Menggunakan Fungsi Summary**\n",
        "\n",
        "Kekuatan bahasa pemrograman R terdapat pada fungsi-fungsi bawaan yang kaya untuk dipergunakan dalam analisis data. Salah satu fungsi ini  adalah fungsi bernama summary yang bisa digunakan untuk menyimpulkan data yang lagi kita proses. Kesimpulan ini berupa nilai statistik deskriptif dari data yang dimiliki, diantaranya nilai minimum, nilai kuartil pertama, nilai tengah (median), nilai kuartil ketiga, dan nilai maksimum data.\n",
        "\n",
        "Ketikkanlah perintah berikut di Code Editor agar kita dapat melihat karakteristik dari vector c(1:5)\n",
        "\n",
        "\n",
        "```\n",
        "summary(c(1:5))\n",
        "```\n",
        "\n",
        "Jalankan dan kamu akan mendapatkan hasil pada Console seperti berikut. Kamu dapat men-scroll ke bawah untuk mengetahui penjelasannya.\n",
        "\n",
        "\n",
        "```\n",
        "   Min. 1st Qu.  Median    Mean 3rd Qu.    Max. \n",
        "      1       2       3       3       4       5 \n",
        "```\n",
        "\n",
        "Ini artinya dari vector tersebut terdapat angka paling kecil 1 (Min), angka paling besar 5 (Max), angka rata-rata 3 (Mean), dan angka tengah 3 (Median). Untuk 1st Qu dan 3rd Qu kita abaikan dulu.\n",
        "\n",
        "Klik tombol Submit Code untuk melanjutkan ke bagian akhir pelajaran kita."
      ],
      "metadata": {
        "id": "I_IzeTp2uWgN"
      }
    },
    {
      "cell_type": "code",
      "source": [
        "summary(c(1:5))"
      ],
      "metadata": {
        "colab": {
          "base_uri": "https://localhost:8080/",
          "height": 52
        },
        "id": "aPp_tJVmuknx",
        "outputId": "7a70c854-d0c4-472e-edb3-717386bb50d0"
      },
      "execution_count": null,
      "outputs": [
        {
          "output_type": "display_data",
          "data": {
            "text/plain": [
              "   Min. 1st Qu.  Median    Mean 3rd Qu.    Max. \n",
              "      1       2       3       3       4       5 "
            ]
          },
          "metadata": {}
        }
      ]
    },
    {
      "cell_type": "markdown",
      "source": [
        "**Selamat untuk kamu!**\n",
        "\n",
        "\n",
        "Kamu baru saja mempelajari dasar awal Bahasa Pemrograman R sebagai langkah awal menjadi seorang Data Scientist.\n",
        "\n",
        "Masih banyak modul pelajaran yang akan kamu pelajari lebih dalam untuk mengaplikasikan teknik data science secara tepat dengan menggunakan beragam studi kasus Industri. \n",
        "\n",
        " \n",
        "\n",
        "Klik tombol \"Next\" untuk mengisi survei dan mendapatkan sertifikat penyelesaian modul dari DQLab!"
      ],
      "metadata": {
        "id": "1sJH0mV0uumC"
      }
    }
  ]
}